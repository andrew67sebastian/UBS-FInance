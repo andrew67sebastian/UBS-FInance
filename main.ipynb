{
 "cells": [
  {
   "cell_type": "code",
   "execution_count": 1,
   "id": "881e6ee8",
   "metadata": {},
   "outputs": [
    {
     "name": "stderr",
     "output_type": "stream",
     "text": [
      "/Users/andrewsebastian/anaconda3/lib/python3.11/site-packages/pandas/core/arrays/masked.py:60: UserWarning: Pandas requires version '1.3.6' or newer of 'bottleneck' (version '1.3.5' currently installed).\n",
      "  from pandas.core import (\n"
     ]
    }
   ],
   "source": [
    "# Dependencies\n",
    "import pathlib\n",
    "import pandas as pd\n",
    "import pandas_datareader as pdr\n",
    "from matplotlib import pyplot as plt\n",
    "import seaborn as sns\n",
    "import numpy as np\n",
    "import yfinance as yf\n",
    "import scipy.optimize as sci_plt\n",
    "\n",
    "from datetime import datetime\n",
    "from pprint import pprint\n",
    "from sklearn.preprocessing import StandardScaler\n",
    "from matplotlib.pyplot import figure\n",
    "import itertools\n",
    "import statsmodels.tsa.stattools as ts"
   ]
  },
  {
   "cell_type": "code",
   "execution_count": 2,
   "id": "6234061e",
   "metadata": {},
   "outputs": [],
   "source": [
    "def get_historical_Data(tickers):\n",
    "    \"\"\"This function returns a pd dataframe with all of the adjusted closing information\"\"\"\n",
    "    data = pd.DataFrame()\n",
    "    names = list()\n",
    "    for i in tickers:\n",
    "        data = pd.concat([data, pd.DataFrame(yf.download(i, start=datetime(2020, 1, 1), end=datetime(2025, 3, 18)).iloc[:,0])], axis = 1)\n",
    "        names.append(i)\n",
    "    data.columns = names\n",
    "    return data"
   ]
  },
  {
   "cell_type": "markdown",
   "id": "fc73bcae",
   "metadata": {},
   "source": [
    "# Stock Tickers"
   ]
  },
  {
   "cell_type": "markdown",
   "id": "3d6e594e",
   "metadata": {},
   "source": [
    "## Stock Categories:\n",
    "**Industrial**\n",
    "* BYD (EV)\n",
    "* CRRC (Rolling Stock, Railway producer)\n",
    "* Techtronic (Power tool)\n",
    "\n",
    "**Consumer**\n",
    "* Yum China (FnB)\n",
    "* Anta (Sportswear)\n",
    "* Budweiser (Beer)\n",
    "\n",
    "**Technology**\n",
    "* SMIC (Semiconductor)\n",
    "* Xiaomi (Consumer Electronics)\n",
    "* Sunny Optical (Optical lenses) | not like"
   ]
  },
  {
   "cell_type": "markdown",
   "id": "440136bb",
   "metadata": {},
   "source": [
    "## Possible Pairs\n",
    "1. BYD, Tesla, Ford, Toyota, Rivian\n",
    "2. Yum China, Jollibee, yum brands, mcdonalds, starbucks\n",
    "3. Anta, Nike, Lululemon, Lining\n",
    "4. Budweiser, Phillip Morris, Constellation brands\n",
    "5. SMIC, TEL, TSMC, NVDA, MSFT, HUAWEI\n",
    "6. Xiaomi, Apple, Samsung, Huawei "
   ]
  },
  {
   "cell_type": "markdown",
   "id": "5af6e7b0",
   "metadata": {},
   "source": [
    "## Tickers"
   ]
  },
  {
   "cell_type": "code",
   "execution_count": 3,
   "id": "bdb1aeb1",
   "metadata": {},
   "outputs": [],
   "source": [
    "t_ind = ['1211.HK', 'TSLA', 'F', 'TM', 'RIVN']\n",
    "t_fnb = ['9987.HK', 'JBFCF', 'YUM', 'MCD', 'SBUX']\n",
    "t_spw = ['2020.HK', 'NKE', 'LULU', '2331.HK']\n",
    "t_ber = ['1876.HK', 'PM', 'STZ']\n",
    "t_smc = ['0981.HK', 'TSM', 'NVDA', 'MSFT', 'TEL']"
   ]
  },
  {
   "cell_type": "markdown",
   "id": "300e4e2a",
   "metadata": {},
   "source": [
    "# Industrial"
   ]
  },
  {
   "cell_type": "code",
   "execution_count": 14,
   "id": "a5968a1b",
   "metadata": {},
   "outputs": [
    {
     "name": "stderr",
     "output_type": "stream",
     "text": [
      "[*********************100%***********************]  1 of 1 completed\n",
      "[*********************100%***********************]  1 of 1 completed\n",
      "[*********************100%***********************]  1 of 1 completed\n",
      "[*********************100%***********************]  1 of 1 completed\n",
      "[*********************100%***********************]  1 of 1 completed"
     ]
    },
    {
     "name": "stdout",
     "output_type": "stream",
     "text": [
      "(1344, 5)\n"
     ]
    },
    {
     "name": "stderr",
     "output_type": "stream",
     "text": [
      "\n"
     ]
    },
    {
     "data": {
      "text/html": [
       "<div>\n",
       "<style scoped>\n",
       "    .dataframe tbody tr th:only-of-type {\n",
       "        vertical-align: middle;\n",
       "    }\n",
       "\n",
       "    .dataframe tbody tr th {\n",
       "        vertical-align: top;\n",
       "    }\n",
       "\n",
       "    .dataframe thead th {\n",
       "        text-align: right;\n",
       "    }\n",
       "</style>\n",
       "<table border=\"1\" class=\"dataframe\">\n",
       "  <thead>\n",
       "    <tr style=\"text-align: right;\">\n",
       "      <th></th>\n",
       "      <th>1211.HK</th>\n",
       "      <th>TSLA</th>\n",
       "      <th>F</th>\n",
       "      <th>TM</th>\n",
       "      <th>RIVN</th>\n",
       "    </tr>\n",
       "    <tr>\n",
       "      <th>Date</th>\n",
       "      <th></th>\n",
       "      <th></th>\n",
       "      <th></th>\n",
       "      <th></th>\n",
       "      <th></th>\n",
       "    </tr>\n",
       "  </thead>\n",
       "  <tbody>\n",
       "    <tr>\n",
       "      <th>2025-03-11</th>\n",
       "      <td>350.200012</td>\n",
       "      <td>230.580002</td>\n",
       "      <td>9.69</td>\n",
       "      <td>184.529999</td>\n",
       "      <td>10.79</td>\n",
       "    </tr>\n",
       "    <tr>\n",
       "      <th>2025-03-12</th>\n",
       "      <td>355.000000</td>\n",
       "      <td>248.089996</td>\n",
       "      <td>9.59</td>\n",
       "      <td>185.649994</td>\n",
       "      <td>11.06</td>\n",
       "    </tr>\n",
       "    <tr>\n",
       "      <th>2025-03-13</th>\n",
       "      <td>360.799988</td>\n",
       "      <td>240.679993</td>\n",
       "      <td>9.53</td>\n",
       "      <td>182.970001</td>\n",
       "      <td>10.61</td>\n",
       "    </tr>\n",
       "    <tr>\n",
       "      <th>2025-03-14</th>\n",
       "      <td>385.799988</td>\n",
       "      <td>249.979996</td>\n",
       "      <td>9.73</td>\n",
       "      <td>186.669998</td>\n",
       "      <td>10.75</td>\n",
       "    </tr>\n",
       "    <tr>\n",
       "      <th>2025-03-17</th>\n",
       "      <td>385.600006</td>\n",
       "      <td>238.009995</td>\n",
       "      <td>9.92</td>\n",
       "      <td>188.410004</td>\n",
       "      <td>11.02</td>\n",
       "    </tr>\n",
       "  </tbody>\n",
       "</table>\n",
       "</div>"
      ],
      "text/plain": [
       "               1211.HK        TSLA     F          TM   RIVN\n",
       "Date                                                       \n",
       "2025-03-11  350.200012  230.580002  9.69  184.529999  10.79\n",
       "2025-03-12  355.000000  248.089996  9.59  185.649994  11.06\n",
       "2025-03-13  360.799988  240.679993  9.53  182.970001  10.61\n",
       "2025-03-14  385.799988  249.979996  9.73  186.669998  10.75\n",
       "2025-03-17  385.600006  238.009995  9.92  188.410004  11.02"
      ]
     },
     "execution_count": 14,
     "metadata": {},
     "output_type": "execute_result"
    }
   ],
   "source": [
    "df_ind = get_historical_Data(t_ind)\n",
    "print(df_ind.shape)\n",
    "df_ind.tail()"
   ]
  },
  {
   "cell_type": "code",
   "execution_count": 19,
   "id": "63fcade6",
   "metadata": {},
   "outputs": [
    {
     "name": "stdout",
     "output_type": "stream",
     "text": [
      "          1211.HK      TSLA         F        TM      RIVN\n",
      "1211.HK  1.000000  0.812266  0.703535  0.559154  0.158408\n",
      "TSLA     0.812266  1.000000  0.698697  0.473042  0.448353\n",
      "F        0.703535  0.698697  1.000000  0.604200  0.764273\n",
      "TM       0.559154  0.473042  0.604200  1.000000 -0.140429\n",
      "RIVN     0.158408  0.448353  0.764273 -0.140429  1.000000\n"
     ]
    }
   ],
   "source": [
    "corr_matrix = df_ind.corr()\n",
    "print(corr_matrix)"
   ]
  },
  {
   "cell_type": "code",
   "execution_count": 23,
   "id": "e1421cb4",
   "metadata": {},
   "outputs": [
    {
     "data": {
      "text/plain": [
       "<Axes: >"
      ]
     },
     "execution_count": 23,
     "metadata": {},
     "output_type": "execute_result"
    },
    {
     "data": {
      "image/png": "[encoded data removed]",
      "text/plain": [
       "<Figure size 1600x1200 with 2 Axes>"
      ]
     },
     "metadata": {},
     "output_type": "display_data"
    }
   ],
   "source": [
    "figure(figsize= (16, 12), dpi=100)\n",
    "sns.heatmap(corr_matrix, annot=True)"
   ]
  },
  {
   "cell_type": "code",
   "execution_count": null,
   "id": "8f2c201d",
   "metadata": {},
   "outputs": [],
   "source": []
  }
 ],
 "metadata": {
  "kernelspec": {
   "display_name": "base",
   "language": "python",
   "name": "python3"
  },
  "language_info": {
   "codemirror_mode": {
    "name": "ipython",
    "version": 3
   },
   "file_extension": ".py",
   "mimetype": "text/x-python",
   "name": "python",
   "nbconvert_exporter": "python",
   "pygments_lexer": "ipython3",
   "version": "3.11.8"
  }
 },
 "nbformat": 4,
 "nbformat_minor": 5
}
